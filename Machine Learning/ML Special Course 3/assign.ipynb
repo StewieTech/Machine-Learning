{
 "cells": [
  {
   "cell_type": "code",
   "execution_count": 25,
   "metadata": {},
   "outputs": [],
   "source": [
    "import numpy as np\n",
    "import pandas as pd\n",
    "from utilss import *\n",
    "import copy\n",
    "import math\n",
    "%matplotlib inline"
   ]
  },
  {
   "cell_type": "code",
   "execution_count": 26,
   "metadata": {},
   "outputs": [],
   "source": [
    "# def load_data(filename):\n",
    "#     data = np.loadtxt(filename, delimiter=',')\n",
    "#     X = data[:,:2]\n",
    "#     y = data[:,2]\n",
    "#     return X, y\n",
    "\n",
    "def load_data(filename):\n",
    "    data = np.loadtxt(filename, delimiter=',')\n",
    "    X = data[:,:2]\n",
    "    y = data[:,2]\n",
    "    return X, y\n",
    "    "
   ]
  },
  {
   "cell_type": "code",
   "execution_count": 27,
   "metadata": {},
   "outputs": [],
   "source": [
    "# def plot_data(X, y, pos_label=\"y=1\", neg_label=\"y=0\"):\n",
    "#     positive = y == 1\n",
    "#     negative = y == 0\n",
    "    \n",
    "#     # Plot examples\n",
    "#     plt.plot(X[positive, 0], X[positive, 1], 'k+', label=pos_label)\n",
    "#     plt.plot(X[negative, 0], X[negative, 1], 'yo', label=neg_label)\n",
    "\n",
    "# def plot_data(X, y, pos_label = \"y=1\", neg_label = \"y=0\")\n",
    "#     postive = y == 1\n",
    "#     negative = y == 0\n",
    "\n",
    "#     plt.plot(X[postive, ])"
   ]
  },
  {
   "cell_type": "code",
   "execution_count": 28,
   "metadata": {},
   "outputs": [],
   "source": [
    "X_train, y_train = load_data(\"data/ex2data1.txt\")"
   ]
  },
  {
   "cell_type": "code",
   "execution_count": 29,
   "metadata": {},
   "outputs": [
    {
     "name": "stdout",
     "output_type": "stream",
     "text": [
      "5 elements:/n [[34.62365962 78.02469282]\n",
      " [30.28671077 43.89499752]\n",
      " [35.84740877 72.90219803]\n",
      " [60.18259939 86.3085521 ]\n",
      " [79.03273605 75.34437644]]\n",
      "5 elements:/n [0. 0. 0. 1. 1.]\n",
      "Type of X_train:  <class 'numpy.ndarray'>\n",
      "Type y_train:  <class 'numpy.ndarray'>\n"
     ]
    }
   ],
   "source": [
    "print(\"5 elements:/n\", X_train[:5])\n",
    "print(\"5 elements:/n\", y_train[:5])\n",
    "\n",
    "print(\"Type of X_train: \", type(X_train))\n",
    "print(\"Type y_train: \", type(y_train))"
   ]
  },
  {
   "cell_type": "code",
   "execution_count": 30,
   "metadata": {},
   "outputs": [
    {
     "name": "stdout",
     "output_type": "stream",
     "text": [
      "X_train shape:  (100, 2) (100,)\n",
      "we have m = 100 traommg examples\n"
     ]
    }
   ],
   "source": [
    "print('X_train shape: ', X_train.shape ,y_train.shape)\n",
    "print('we have m = %d traommg examples' %  (len(X_train)))"
   ]
  },
  {
   "cell_type": "code",
   "execution_count": 31,
   "metadata": {},
   "outputs": [
    {
     "data": {
      "image/png": "[encoded data removed]",
      "text/plain": [
       "<Figure size 640x480 with 1 Axes>"
      ]
     },
     "metadata": {},
     "output_type": "display_data"
    }
   ],
   "source": [
    "plot_data(X_train, y_train, pos_label=\"Admitted\", neg_label=\"Not Admitted\")\n",
    "\n",
    "plt.ylabel('Exam 2 score')\n",
    "plt.xlabel('Exam 1 score')\n",
    "plt.legend(loc=\"upper left\")\n",
    "plt.show()"
   ]
  },
  {
   "cell_type": "code",
   "execution_count": 32,
   "metadata": {},
   "outputs": [],
   "source": [
    "def sigmoid(z):\n",
    "\n",
    "    # z = np.dot(w,X) + b\n",
    "    g = 1 / (1 + np.exp(-z))\n",
    "\n",
    "    \n",
    "\n",
    "    return g"
   ]
  },
  {
   "cell_type": "code",
   "execution_count": 33,
   "metadata": {},
   "outputs": [
    {
     "name": "stdout",
     "output_type": "stream",
     "text": [
      "sigmoid(0) =  [0.26894142 0.5        0.73105858 0.88079708]\n",
      "\u001b[92mAll tests passed!\n"
     ]
    }
   ],
   "source": [
    "test = np.array([-1,0,1,2])\n",
    "print(\"sigmoid(0) = \", sigmoid(test))\n",
    "\n",
    "from public_tests import *\n",
    "sigmoid_test(sigmoid)"
   ]
  },
  {
   "cell_type": "code",
   "execution_count": 34,
   "metadata": {},
   "outputs": [],
   "source": [
    "# def compute_cost(X,y,w,b, lambda_=1):\n",
    "\n",
    "#     m,n = X.shape\n",
    "#     loss_sum = 0\n",
    " \n",
    "\n",
    "#     for i in range(m):\n",
    "#         z_wb = 0\n",
    "#         for j in range(n):\n",
    "#             z_wb_ij = w[j] * X[i][j]\n",
    "#             z_wb += z_wb_ij\n",
    "#         z_wb += b\n",
    "#         f_wb = sigmoid(z_wb)\n",
    "#         loss = -y[i] *np.log(f_wb) - (1-y[i]) * np.log(1- f_wb) \n",
    "#         loss_sum += loss\n",
    "\n",
    "\n",
    "\n",
    "#     total_cost = (1 / m) * loss_sum\n",
    "#     return total_cost"
   ]
  },
  {
   "cell_type": "code",
   "execution_count": 35,
   "metadata": {},
   "outputs": [],
   "source": [
    "def compute_cost(X,y,w,b , lambda_=1):\n",
    "    m,n = X.shape\n",
    "\n",
    "    loss_sum = 0\n",
    "    for i in range(m):\n",
    "        z_wb = np.dot(X[i],w) + b\n",
    "        f_wb = sigmoid(z_wb)\n",
    "        loss_sum += -y[i] *np.log(f_wb) - (1-y[i]) * np.log(1- f_wb) \n",
    "    total_cost = loss_sum / m\n",
    "\n",
    "    return total_cost\n",
    "    \n",
    "\n",
    "\n"
   ]
  },
  {
   "cell_type": "code",
   "execution_count": 36,
   "metadata": {},
   "outputs": [
    {
     "name": "stdout",
     "output_type": "stream",
     "text": [
      "Cost at w (zeros) 0.693\n"
     ]
    }
   ],
   "source": [
    "m,n = X_train.shape\n",
    "\n",
    "initial_w = np.zeros(n)\n",
    "initial_b = 0. \n",
    "cost = compute_cost(X_train, y_train, initial_w, initial_b)\n",
    "print('Cost at w (zeros) {:.3f}'.format(cost))"
   ]
  },
  {
   "cell_type": "code",
   "execution_count": 37,
   "metadata": {},
   "outputs": [
    {
     "name": "stdout",
     "output_type": "stream",
     "text": [
      "Cost at test w,b: 0.218\n",
      "\u001b[92mAll tests passed!\n"
     ]
    }
   ],
   "source": [
    "test_w = np.array([0.2, 0.2])\n",
    "test_b = -24.\n",
    "cost = compute_cost(X_train, y_train, test_w, test_b)\n",
    "\n",
    "print('Cost at test w,b: {:.3f}'.format(cost))\n",
    "\n",
    "compute_cost_test(compute_cost)"
   ]
  },
  {
   "cell_type": "code",
   "execution_count": 38,
   "metadata": {},
   "outputs": [],
   "source": [
    "def compute_gradient(X, y, w, b, lambda_=None):\n",
    "    m,n = X.shape\n",
    "    dj_dw = np.zeros(w.shape)\n",
    "    dj_db = 0.\n",
    "\n",
    "    for i in range(m):\n",
    "\n",
    "        z_wb = 0\n",
    "\n",
    "        for j in range(n):\n",
    "            z_wb_ij = X[i, j] * w[j]\n",
    "            z_wb += z_wb_ij\n",
    "\n",
    "        z_wb += b\n",
    "        f_wb = sigmoid(z_wb)\n",
    "\n",
    "\n",
    "        dj_db_i = f_wb - y[i]\n",
    "        dj_db += dj_db_i \n",
    "\n",
    "        for j in range(n):\n",
    "\n",
    "            dj_dw_ij = (f_wb - y[i]) * X[i, j]\n",
    "            dj_dw[j] += dj_dw_ij\n",
    "\n",
    "    dj_dw = dj_dw / m\n",
    "    dj_db = dj_db / m\n",
    "\n",
    "    return  dj_db ,dj_dw\n",
    "\n",
    "\n"
   ]
  },
  {
   "cell_type": "code",
   "execution_count": 39,
   "metadata": {},
   "outputs": [],
   "source": [
    "# def compute_gradient(X,y,w,b , lamda_ = None) :\n",
    "    \n",
    "#     m,n - X.shape\n",
    "#     dj_dw = np.zeros(w.shape)\n",
    "#     dj_db = 0.\n",
    "    \n",
    "#     for i in range(m):\n",
    "#         z_wb = sigmoid(np.dot(w,X[i]) + b)\n",
    "#         f_wb = z_wb\n",
    "#         err_i  = f_wb_i  - y[i]                       \n",
    "#                 for j in range(n):\n",
    "#                     dj_dw[j] = dj_dw[j] + err_i * X[i,j]      \n",
    "#                 dj_db = dj_db + err_i\n",
    "#             dj_dw = dj_dw/m                                   \n",
    "#             dj_db = dj_db/m     \n",
    "\n",
    "# return  dj_db ,dj_dw\n",
    "\n",
    "\n"
   ]
  },
  {
   "cell_type": "code",
   "execution_count": 40,
   "metadata": {},
   "outputs": [
    {
     "name": "stdout",
     "output_type": "stream",
     "text": [
      "dj_db initial:-0.1 \n",
      "dj_dw initial:[-12.00921658929115, -11.262842205513591] \n"
     ]
    }
   ],
   "source": [
    "initial_w = np.zeros(n)\n",
    "initial_b = 0.\n",
    "\n",
    "dj_db, dj_dw = compute_gradient(X_train, y_train, initial_w, initial_b)\n",
    "print(f'dj_db initial:{dj_db} ')\n",
    "print(f'dj_dw initial:{dj_dw.tolist()} ' )"
   ]
  },
  {
   "cell_type": "code",
   "execution_count": 41,
   "metadata": {},
   "outputs": [
    {
     "name": "stdout",
     "output_type": "stream",
     "text": [
      "dj_db at test_w:  -0.5999999999991071\n",
      "dj_dw at test_w: [-12.00921658929115, -11.262842205513591]\n",
      "\u001b[92mAll tests passed!\n"
     ]
    }
   ],
   "source": [
    "test_w = np.array([0.2, -0.5])\n",
    "test_b = -24\n",
    "dj_db, dj_wb = compute_gradient(X_train, y_train, test_w, test_b)\n",
    "\n",
    "print('dj_db at test_w: ', dj_db)\n",
    "print('dj_dw at test_w:', dj_dw.tolist())\n",
    "\n",
    "compute_gradient_test(compute_gradient)\n"
   ]
  },
  {
   "cell_type": "code",
   "execution_count": 46,
   "metadata": {},
   "outputs": [],
   "source": [
    "def gradient_descent(X, y, w_in, b_in, cost_function, gradient_function, alpha, num_iters, lambda_):\n",
    "    m = len(X)\n",
    "\n",
    "    J_history = []\n",
    "    w_history = []\n",
    "\n",
    "    for i in range(num_iters):\n",
    "        dj_db, dj_dw = gradient_function(X, y, w_in, b_in, lambda_)\n",
    "\n",
    "        w_in = w_in - alpha * dj_dw\n",
    "        b_in = b_in -  alpha * dj_db\n",
    "\n",
    "        if i<100000:\n",
    "            cost = cost_function(X,y, w_in, b_in, lambda_)\n",
    "            J_history.append(cost)\n",
    "\n",
    "        if i% math.ceil(num_iters) == 0 or i == (num_iters-1):\n",
    "            w_history.append(w_in)\n",
    "            print(f\"iteration {i:4}: Cost {float(J_history[-1]):8.2f} \")\n",
    "    return w_in, b_in, J_history, w_history\n",
    "\n",
    "        "
   ]
  },
  {
   "cell_type": "code",
   "execution_count": 47,
   "metadata": {},
   "outputs": [
    {
     "name": "stdout",
     "output_type": "stream",
     "text": [
      "iteration    0: Cost     0.96 \n",
      "iteration 9999: Cost     0.30 \n"
     ]
    }
   ],
   "source": [
    "np.random.seed(1)\n",
    "initial_w = 0.01 * (np.random.rand(2).reshape(-1,1) - 0.5)\n",
    "initial_b = -8\n",
    "\n",
    "iterations = 10000\n",
    "alpha = 0.001\n",
    "\n",
    "w,b, J_history,_ = gradient_descent(X_train, y_train, initial_w, initial_b, compute_cost, compute_gradient, alpha, iterations, 0)"
   ]
  },
  {
   "cell_type": "code",
   "execution_count": 48,
   "metadata": {},
   "outputs": [
    {
     "data": {
      "image/png": "[encoded data removed]",
      "text/plain": [
       "<Figure size 640x480 with 1 Axes>"
      ]
     },
     "metadata": {},
     "output_type": "display_data"
    }
   ],
   "source": [
    "plot_decision_boundary(w,b,X_train, y_train)"
   ]
  },
  {
   "cell_type": "code",
   "execution_count": 64,
   "metadata": {},
   "outputs": [],
   "source": [
    "def predict(X,w,b):\n",
    "    m,n = X.shape\n",
    "    p = np.zeros(m)\n",
    "\n",
    "    for i in range(m):\n",
    "        z_wb = 0\n",
    "        z_wb += np.dot(w,X[i]) + b\n",
    "        f_wb = sigmoid(z_wb)\n",
    "        p[i] = 1 if f_wb > 0.5 else 0\n",
    "    return p\n",
    "\n",
    "\n"
   ]
  },
  {
   "cell_type": "code",
   "execution_count": 68,
   "metadata": {},
   "outputs": [
    {
     "name": "stdout",
     "output_type": "stream",
     "text": [
      "Output predict: shape (4,), value [0. 0. 0. 1.]\n",
      "\u001b[92mAll tests passed!\n"
     ]
    }
   ],
   "source": [
    "np.random.seed(1)\n",
    "tmp_w = np.random.randn(2)\n",
    "tmp_b = 0.3\n",
    "tmp_X = np.random.rand(4,2) - 0.5\n",
    "\n",
    "tmp_p = predict(tmp_X, tmp_w, tmp_b)\n",
    "print(f'Output predict: shape {tmp_p.shape}, value {tmp_p}')\n",
    "\n",
    "predict_test(predict)"
   ]
  },
  {
   "cell_type": "code",
   "execution_count": 71,
   "metadata": {},
   "outputs": [
    {
     "ename": "ValueError",
     "evalue": "shapes (2,1) and (2,) not aligned: 1 (dim 1) != 2 (dim 0)",
     "output_type": "error",
     "traceback": [
      "\u001b[1;31m---------------------------------------------------------------------------\u001b[0m",
      "\u001b[1;31mValueError\u001b[0m                                Traceback (most recent call last)",
      "Cell \u001b[1;32mIn [71], line 2\u001b[0m\n\u001b[0;32m      1\u001b[0m \u001b[39m#Compute accuracy on our training set\u001b[39;00m\n\u001b[1;32m----> 2\u001b[0m p \u001b[39m=\u001b[39m predict(X_train, w,b)\n\u001b[0;32m      3\u001b[0m \u001b[39mprint\u001b[39m(\u001b[39m'\u001b[39m\u001b[39mTrain Accuracy: \u001b[39m\u001b[39m%f\u001b[39;00m\u001b[39m'\u001b[39m\u001b[39m%\u001b[39m(np\u001b[39m.\u001b[39mmean(p \u001b[39m==\u001b[39m y_train) \u001b[39m*\u001b[39m \u001b[39m100\u001b[39m))\n",
      "Cell \u001b[1;32mIn [64], line 7\u001b[0m, in \u001b[0;36mpredict\u001b[1;34m(X, w, b)\u001b[0m\n\u001b[0;32m      5\u001b[0m \u001b[39mfor\u001b[39;00m i \u001b[39min\u001b[39;00m \u001b[39mrange\u001b[39m(m):\n\u001b[0;32m      6\u001b[0m     z_wb \u001b[39m=\u001b[39m \u001b[39m0\u001b[39m\n\u001b[1;32m----> 7\u001b[0m     z_wb \u001b[39m+\u001b[39m\u001b[39m=\u001b[39m np\u001b[39m.\u001b[39;49mdot(w,X[i]) \u001b[39m+\u001b[39m b\n\u001b[0;32m      8\u001b[0m     f_wb \u001b[39m=\u001b[39m sigmoid(z_wb)\n\u001b[0;32m      9\u001b[0m     p[i] \u001b[39m=\u001b[39m \u001b[39m1\u001b[39m \u001b[39mif\u001b[39;00m f_wb \u001b[39m>\u001b[39m \u001b[39m0.5\u001b[39m \u001b[39melse\u001b[39;00m \u001b[39m0\u001b[39m\n",
      "File \u001b[1;32m<__array_function__ internals>:180\u001b[0m, in \u001b[0;36mdot\u001b[1;34m(*args, **kwargs)\u001b[0m\n",
      "\u001b[1;31mValueError\u001b[0m: shapes (2,1) and (2,) not aligned: 1 (dim 1) != 2 (dim 0)"
     ]
    }
   ],
   "source": [
    "#Compute accuracy on our training set\n",
    "p = predict(X_train, w,b)\n",
    "print('Train Accuracy: %f'%(np.mean(p == y_train) * 100))"
   ]
  },
  {
   "cell_type": "code",
   "execution_count": 72,
   "metadata": {},
   "outputs": [],
   "source": [
    "X_train, y_train = load_data(\"data/ex2data2.txt\")"
   ]
  },
  {
   "cell_type": "code",
   "execution_count": 74,
   "metadata": {},
   "outputs": [
    {
     "name": "stdout",
     "output_type": "stream",
     "text": [
      "X_train: [[ 0.051267  0.69956 ]\n",
      " [-0.092742  0.68494 ]\n",
      " [-0.21371   0.69225 ]\n",
      " [-0.375     0.50219 ]\n",
      " [-0.51325   0.46564 ]]\n",
      "X_train type: <class 'numpy.ndarray'>\n",
      "y_train: <class 'numpy.ndarray'>\n",
      "Y_train: [1. 1. 1. 1. 1.]\n"
     ]
    }
   ],
   "source": [
    "print(\"X_train:\", X_train[:5])\n",
    "print(\"X_train type:\", type(X_train))\n",
    "print(\"y_train:\", type(y_train))\n",
    "\n",
    "print(\"Y_train:\", y_train[:5])"
   ]
  },
  {
   "cell_type": "code",
   "execution_count": 75,
   "metadata": {},
   "outputs": [
    {
     "name": "stdout",
     "output_type": "stream",
     "text": [
      "X_train shape:  (118, 2)\n",
      "y_train shape:  (118,)\n",
      "We have m = 118 training examples\n"
     ]
    }
   ],
   "source": [
    "print(\"X_train shape: \", X_train.shape)\n",
    "print(\"y_train shape: \", y_train.shape)\n",
    "print(\"We have m = %d training examples\" %(len(y_train)))"
   ]
  },
  {
   "cell_type": "code",
   "execution_count": 79,
   "metadata": {},
   "outputs": [
    {
     "data": {
      "image/png": "[encoded data removed]",
      "text/plain": [
       "<Figure size 640x480 with 1 Axes>"
      ]
     },
     "metadata": {},
     "output_type": "display_data"
    }
   ],
   "source": [
    "plot_data(X_train, y_train, pos_label=\"Accepted\", neg_label=\"Rejected\")\n",
    "\n",
    "plt.ylabel(\"Micro Test 2\")\n",
    "plt.xlabel(\"Micro Test 1\")\n",
    "plt.legend(loc=\"upper right\")\n",
    "plt.show()"
   ]
  },
  {
   "cell_type": "code",
   "execution_count": 82,
   "metadata": {},
   "outputs": [
    {
     "name": "stdout",
     "output_type": "stream",
     "text": [
      " Original shape:  (118, 2)\n",
      "Shape after feature mapping:  (118, 27)\n",
      "[[ 5.12670000e-02  6.99560000e-01  2.62830529e-03 ...  6.29470940e-04\n",
      "   8.58939846e-03  1.17205992e-01]\n",
      " [-9.27420000e-02  6.84940000e-01  8.60107856e-03 ...  1.89305413e-03\n",
      "  -1.39810280e-02  1.03255971e-01]\n",
      " [-2.13710000e-01  6.92250000e-01  4.56719641e-02 ...  1.04882142e-02\n",
      "  -3.39734512e-02  1.10046893e-01]\n",
      " ...\n",
      " [-4.84450000e-01  9.99270000e-01  2.34691802e-01 ...  2.34007252e-01\n",
      "  -4.82684337e-01  9.95627986e-01]\n",
      " [-6.33640000e-03  9.99270000e-01  4.01499650e-05 ...  4.00328554e-05\n",
      "  -6.31330588e-03  9.95627986e-01]\n",
      " [ 6.32650000e-01 -3.06120000e-02  4.00246023e-01 ...  3.51474517e-07\n",
      "  -1.70067777e-08  8.22905998e-10]]\n"
     ]
    }
   ],
   "source": [
    "print(\" Original shape: \", X_train.shape)\n",
    "\n",
    "mapped_X = map_feature(X_train[:, 0], X_train[:, 1])\n",
    "print(\"Shape after feature mapping: \", mapped_X.shape)\n",
    "print(mapped_X)"
   ]
  },
  {
   "cell_type": "code",
   "execution_count": 86,
   "metadata": {},
   "outputs": [
    {
     "name": "stdout",
     "output_type": "stream",
     "text": [
      "X_train:  [0.051267 0.69956 ]\n",
      "mapped_X:  [[ 5.12670000e-02  6.99560000e-01  2.62830529e-03 ...  6.29470940e-04\n",
      "   8.58939846e-03  1.17205992e-01]\n",
      " [-9.27420000e-02  6.84940000e-01  8.60107856e-03 ...  1.89305413e-03\n",
      "  -1.39810280e-02  1.03255971e-01]\n",
      " [-2.13710000e-01  6.92250000e-01  4.56719641e-02 ...  1.04882142e-02\n",
      "  -3.39734512e-02  1.10046893e-01]\n",
      " ...\n",
      " [-4.84450000e-01  9.99270000e-01  2.34691802e-01 ...  2.34007252e-01\n",
      "  -4.82684337e-01  9.95627986e-01]\n",
      " [-6.33640000e-03  9.99270000e-01  4.01499650e-05 ...  4.00328554e-05\n",
      "  -6.31330588e-03  9.95627986e-01]\n",
      " [ 6.32650000e-01 -3.06120000e-02  4.00246023e-01 ...  3.51474517e-07\n",
      "  -1.70067777e-08  8.22905998e-10]]\n"
     ]
    }
   ],
   "source": [
    "print(\"X_train: \",X_train[0])\n",
    "print(\"mapped_X: \", mapped_X)"
   ]
  },
  {
   "cell_type": "code",
   "execution_count": 105,
   "metadata": {},
   "outputs": [],
   "source": [
    "def compute_cost_reg(X,y,w,b, lambda_ = 1):\n",
    "    m,n = X.shape\n",
    "\n",
    "    cost_without_reg = compute_cost(X, y, w, b)\n",
    "    reg_cost = 0\n",
    "\n",
    "    for j in range(n):\n",
    "        reg_cost_j =  w[j] ** 2\n",
    "        reg_cost += reg_cost_j\n",
    "\n",
    "    # for i in range(m):\n",
    "    #     z_wb = 0\n",
    "    #     z_wb = np.dot(w,X[i] + b)\n",
    "    #     f_wb = sigmoid(z_wb)\n",
    "    #     reg_cost += -y[i] *np.log(f_wb) - (1-y[i]) * np.log(1- f_wb) \n",
    "    total_cost = cost_without_reg + (lambda_/ (2 * m)) * reg_cost\n",
    "    return total_cost"
   ]
  },
  {
   "cell_type": "code",
   "execution_count": 106,
   "metadata": {},
   "outputs": [
    {
     "name": "stdout",
     "output_type": "stream",
     "text": [
      "Regularized cost:  0.6618252552483948\n",
      "\u001b[92mAll tests passed!\n"
     ]
    }
   ],
   "source": [
    "X_mapped = map_feature(X_train[:, 0], X_train[:, 1])\n",
    "np.random.seed(1)\n",
    "initial_w = np.random.rand(X_mapped.shape[-1]) - 0.5\n",
    "initial_b = 0.5\n",
    "lambda_ = 0.5\n",
    "cost = compute_cost_reg(X_mapped, y_train, initial_w, initial_b, lambda_)\n",
    "\n",
    "print(\"Regularized cost: \", cost)\n",
    "\n",
    "compute_cost_reg_test(compute_cost_reg)"
   ]
  },
  {
   "cell_type": "code",
   "execution_count": 113,
   "metadata": {},
   "outputs": [],
   "source": [
    "def compute_gradient_reg(X, y, w, b, lambda_ = 1):\n",
    "\n",
    "    m, n = X.shape\n",
    "\n",
    "    dj_db, dj_dw = compute_gradient(X,y,w,b)\n",
    "\n",
    "    for j in range(n):\n",
    "        dj_dw[j] = dj_dw[j] + (lambda_ / m ) * w[j]\n",
    "        # dj_dw += dj_dw[j] \n",
    "    \n",
    "    return dj_db, dj_dw"
   ]
  },
  {
   "cell_type": "code",
   "execution_count": 114,
   "metadata": {},
   "outputs": [
    {
     "name": "stdout",
     "output_type": "stream",
     "text": [
      "dj_db: 0.07138288792343662\n",
      "dj_dw: [-0.01038603  0.01140985  0.05362735  0.00314028]\n"
     ]
    }
   ],
   "source": [
    "X_mapped = map_feature(X_train[:, 0], X_train[:, 1])\n",
    "np.random.seed(1)\n",
    "initial_w = np.random.rand(X_mapped.shape[1]) - 0.5\n",
    "initial_b = 0.5\n",
    "\n",
    "lambda_ = 0.5\n",
    "dj_db, dj_dw = compute_gradient_reg(X_mapped, y_train, initial_w, initial_b, lambda_)\n",
    "\n",
    "print(f\"dj_db: {dj_db}\", )\n",
    "print(f\"dj_dw: {dj_dw[:4]}\" , )"
   ]
  },
  {
   "cell_type": "code",
   "execution_count": null,
   "metadata": {},
   "outputs": [],
   "source": [
    "np.random.seed(1)\n",
    "initial"
   ]
  }
 ],
 "metadata": {
  "kernelspec": {
   "display_name": "Python 3.10.8 64-bit (microsoft store)",
   "language": "python",
   "name": "python3"
  },
  "language_info": {
   "codemirror_mode": {
    "name": "ipython",
    "version": 3
   },
   "file_extension": ".py",
   "mimetype": "text/x-python",
   "name": "python",
   "nbconvert_exporter": "python",
   "pygments_lexer": "ipython3",
   "version": "3.10.9"
  },
  "orig_nbformat": 4,
  "vscode": {
   "interpreter": {
    "hash": "e2afdfb4135b8084f97e4911b68d3949e93467452fa97c19c7ac2f06247fa3c9"
   }
  }
 },
 "nbformat": 4,
 "nbformat_minor": 2
}
